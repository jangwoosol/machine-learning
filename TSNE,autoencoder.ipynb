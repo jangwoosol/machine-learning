{
  "nbformat": 4,
  "nbformat_minor": 0,
  "metadata": {
    "colab": {
      "name": "차원축소/TSNE,autoencoder.ipynb",
      "provenance": [],
      "collapsed_sections": []
    },
    "kernelspec": {
      "name": "python3",
      "display_name": "Python 3"
    },
    "language_info": {
      "name": "python"
    }
  },
  "cells": [
    {
      "cell_type": "code",
      "metadata": {
        "id": "If7mEpCE5ET8"
      },
      "source": [
        "import math\n",
        "import pandas as pd\n",
        "import tensorflow as tf\n",
        "import matplotlib.pyplot as plt\n",
        "from tensorflow.keras import Model\n",
        "from tensorflow.keras import Sequential\n",
        "from sklearn.preprocessing import StandardScaler\n",
        "from tensorflow.keras.layers import Dense, Dropout\n",
        "from sklearn.model_selection import train_test_split\n",
        "from tensorflow.keras.losses import MeanSquaredLogarithmicError\n"
      ],
      "execution_count": null,
      "outputs": []
    },
    {
      "cell_type": "code",
      "metadata": {
        "id": "emprmhag5Obk"
      },
      "source": [
        "y_train= pd.read_csv(\"/content/y_train.csv\")\n",
        "y_train=y_train['BBclass']\n",
        "y_test=pd.read_csv(\"/content/y_external.csv\")\n",
        "y_test=y_test['BBclass']\n",
        "x_test=pd.read_csv(\"/content/X_external.csv\")\n",
        "x_train=pd.read_csv(\"/content/X_train.csv\")"
      ],
      "execution_count": null,
      "outputs": []
    },
    {
      "cell_type": "code",
      "metadata": {
        "id": "PvEUQfBS5OeG"
      },
      "source": [
        "#error방지를 위해 변수명에 쉼표와 부등호 다 없애기\n",
        "import re\n",
        "regex = re.compile(r\"\\[|\\]|<\", re.IGNORECASE)\n",
        "x_train.columns = [regex.sub(\"_\", col) if any(x in str(col) for x in set(('[', ']', '<'))) else col for col in x_train.columns.values]\n",
        "x_test.columns = [regex.sub(\"_\", col) if any(x in str(col) for x in set(('[', ']', '<'))) else col for col in x_test.columns.values]"
      ],
      "execution_count": null,
      "outputs": []
    },
    {
      "cell_type": "markdown",
      "metadata": {
        "id": "mlwmTM2Ord2E"
      },
      "source": [
        "# 2차원으로 차원 축소, t-sne 모델 생성"
      ]
    },
    {
      "cell_type": "code",
      "metadata": {
        "id": "b5A9FKL15OjH"
      },
      "source": [
        "#auto보다 연속적인 형태일 때 더 잘 돼\n",
        "from sklearn.manifold import TSNE\n",
        "model = TSNE(n_components=2,random_state=42)\n",
        "k=model.fit_transform(x_train, y_train)\n"
      ],
      "execution_count": null,
      "outputs": []
    },
    {
      "cell_type": "code",
      "metadata": {
        "colab": {
          "base_uri": "https://localhost:8080/",
          "height": 280
        },
        "id": "hhG8ss0QADyW",
        "outputId": "ff1e4c77-978f-424c-962a-c0cee084b954"
      },
      "source": [
        "import pandas as pd\n",
        "import matplotlib.pyplot as plt\n",
        "%matplotlib inline\n",
        "col=['component_1','component_2']\n",
        "train_set=pd.DataFrame(k, columns=col)\n",
        "train_set['target']=y_train\n",
        "\n",
        "markers=['o','s']\n",
        "for i,marker in enumerate(markers):\n",
        "  x_axis_data=train_set[train_set['target']==i]['component_1']\n",
        "  y_axis_data=train_set[train_set['target']==i]['component_2']\n",
        "  plt.scatter(x_axis_data, y_axis_data, marker=marker)\n",
        "\n",
        "plt.xlabel('component_1')\n",
        "plt.ylabel('component_2')\n",
        "plt.show()"
      ],
      "execution_count": null,
      "outputs": [
        {
          "output_type": "display_data",
          "data": {
            "image/png": "[encoded data removed]",
            "text/plain": [
              "<Figure size 432x288 with 1 Axes>"
            ]
          },
          "metadata": {
            "needs_background": "light"
          }
        }
      ]
    },
    {
      "cell_type": "markdown",
      "metadata": {
        "id": "xR0AT_jtraiW"
      },
      "source": [
        "#autoencoder 이용한 차원 축소"
      ]
    },
    {
      "cell_type": "code",
      "metadata": {
        "colab": {
          "base_uri": "https://localhost:8080/"
        },
        "id": "RyOkNk9oi9CC",
        "outputId": "bdc6e152-25bd-4e77-de8a-7961e8f558a7"
      },
      "source": [
        "#데이터 표준화 시켜준다.\n",
        "from sklearn.preprocessing import MinMaxScaler\n",
        "\n",
        "def scale_datasets(x_train, x_test):\n",
        "\n",
        "  standard_scaler = MinMaxScaler()\n",
        "  x_train_scaled = pd.DataFrame(\n",
        "      standard_scaler.fit_transform(x_train),\n",
        "      columns=x_train.columns\n",
        "  )\n",
        "  x_test_scaled = pd.DataFrame(\n",
        "      standard_scaler.transform(x_test),\n",
        "      columns = x_test.columns\n",
        "  )\n",
        "  return x_train_scaled, x_test_scaled\n",
        "  \n",
        "x_train_scaled, x_test_scaled = scale_datasets(x_train, x_test)\n",
        "\n",
        "#AutoEncoder생성\n",
        "class AutoEncoders(Model):\n",
        "\n",
        "  def __init__(self, output_units):\n",
        "\n",
        "    super().__init__()\n",
        "    self.encoder = Sequential(\n",
        "        [\n",
        "          Dense(32, activation=\"relu\"),\n",
        "          Dense(16, activation=\"relu\"),\n",
        "          Dense(7, activation=\"relu\")\n",
        "        ]\n",
        "    )\n",
        "\n",
        "    self.decoder = Sequential(\n",
        "        [\n",
        "          Dense(16, activation=\"relu\"),\n",
        "          Dense(32, activation=\"relu\"),\n",
        "          Dense(output_units, activation=\"sigmoid\")\n",
        "        ]\n",
        "    )\n",
        "\n",
        "  def call(self, inputs):\n",
        "    encoded = self.encoder(inputs)\n",
        "    decoded = self.decoder(encoded)\n",
        "    return decoded\n",
        "  \n",
        "auto_encoder = AutoEncoders(len(x_train_scaled.columns))\n",
        "\n",
        "auto_encoder.compile(\n",
        "    loss='RMSE',\n",
        "    optimizer='RMSPROP'\n",
        ")\n",
        "\n",
        "history = auto_encoder.fit(\n",
        "    x_train_scaled, \n",
        "    x_train_scaled, \n",
        "    epochs=15, \n",
        "    batch_size=32, \n",
        "    validation_split=0.2)\n",
        "\n"
      ],
      "execution_count": null,
      "outputs": [
        {
          "output_type": "stream",
          "name": "stdout",
          "text": [
            "Epoch 1/15\n",
            "180/180 [==============================] - 2s 8ms/step - loss: 0.2229 - val_loss: 0.1912\n",
            "Epoch 2/15\n",
            "180/180 [==============================] - 1s 5ms/step - loss: 0.1823 - val_loss: 0.1762\n",
            "Epoch 3/15\n",
            "180/180 [==============================] - 1s 6ms/step - loss: 0.1752 - val_loss: 0.1719\n",
            "Epoch 4/15\n",
            "180/180 [==============================] - 1s 6ms/step - loss: 0.1705 - val_loss: 0.1666\n",
            "Epoch 5/15\n",
            "180/180 [==============================] - 1s 5ms/step - loss: 0.1651 - val_loss: 0.1616\n",
            "Epoch 6/15\n",
            "180/180 [==============================] - 1s 5ms/step - loss: 0.1602 - val_loss: 0.1565\n",
            "Epoch 7/15\n",
            "180/180 [==============================] - 1s 5ms/step - loss: 0.1577 - val_loss: 0.1557\n",
            "Epoch 8/15\n",
            "180/180 [==============================] - 1s 5ms/step - loss: 0.1562 - val_loss: 0.1549\n",
            "Epoch 9/15\n",
            "180/180 [==============================] - 1s 5ms/step - loss: 0.1552 - val_loss: 0.1538\n",
            "Epoch 10/15\n",
            "180/180 [==============================] - 1s 5ms/step - loss: 0.1544 - val_loss: 0.1525\n",
            "Epoch 11/15\n",
            "180/180 [==============================] - 1s 6ms/step - loss: 0.1538 - val_loss: 0.1526\n",
            "Epoch 12/15\n",
            "180/180 [==============================] - 1s 5ms/step - loss: 0.1532 - val_loss: 0.1517\n",
            "Epoch 13/15\n",
            "180/180 [==============================] - 1s 5ms/step - loss: 0.1527 - val_loss: 0.1512\n",
            "Epoch 14/15\n",
            "180/180 [==============================] - 1s 6ms/step - loss: 0.1522 - val_loss: 0.1514\n",
            "Epoch 15/15\n",
            "180/180 [==============================] - 1s 6ms/step - loss: 0.1517 - val_loss: 0.1501\n"
          ]
        }
      ]
    },
    {
      "cell_type": "code",
      "metadata": {
        "colab": {
          "base_uri": "https://localhost:8080/",
          "height": 265
        },
        "id": "NstA1thjXWow",
        "outputId": "181d328f-15dc-4a0b-d2a1-933423992b4f"
      },
      "source": [
        "#그림으로 확인\n",
        "pyplot.plot(history.history['loss'], label='train')\n",
        "pyplot.plot(history.history['val_loss'], label='test')\n",
        "pyplot.legend()\n",
        "pyplot.show()"
      ],
      "execution_count": null,
      "outputs": [
        {
          "output_type": "display_data",
          "data": {
            "image/png": "[encoded data removed]",
            "text/plain": [
              "<Figure size 432x288 with 1 Axes>"
            ]
          },
          "metadata": {
            "needs_background": "light"
          }
        }
      ]
    },
    {
      "cell_type": "code",
      "metadata": {
        "colab": {
          "base_uri": "https://localhost:8080/"
        },
        "id": "Lb16ePx5tflE",
        "outputId": "d6c60a00-d89f-4274-9053-3fb4381470d1"
      },
      "source": [
        "#테스트셋에 적용시킨다.\n",
        "performance_test = auto_encoder.evaluate(x_test_scaled, x_test_scaled, batch_size=100)\n"
      ],
      "execution_count": null,
      "outputs": [
        {
          "output_type": "stream",
          "name": "stdout",
          "text": [
            "1/1 [==============================] - 0s 22ms/step - loss: 0.1486\n"
          ]
        }
      ]
    }
  ]
}