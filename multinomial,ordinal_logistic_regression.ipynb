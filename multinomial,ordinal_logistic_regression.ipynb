{
  "nbformat": 4,
  "nbformat_minor": 0,
  "metadata": {
    "colab": {
      "name": "multinomial,ordinal logistic regression.ipynb",
      "provenance": []
    },
    "kernelspec": {
      "name": "python3",
      "display_name": "Python 3"
    },
    "language_info": {
      "name": "python"
    }
  },
  "cells": [
    {
      "cell_type": "code",
      "metadata": {
        "id": "b1_qsr4q2RYy"
      },
      "source": [
        "import pandas as pd\n",
        "from sklearn.model_selection import train_test_split\n",
        "import pandas as pd\n",
        "from sklearn.linear_model import LogisticRegression\n",
        "from sklearn import metrics\n",
        "import numpy as np\n",
        "!pip install mord\n",
        "from mord import LogisticAT\n",
        "from sklearn.preprocessing import StandardScaler\n",
        "#불러오기\n",
        "abalone= pd.read_csv(\"https://www.gagolewski.com/resources/data/ordinal-regression/abalone_ord.csv\")\n",
        "boston=pd.read_csv(\"https://www.gagolewski.com/resources/data/ordinal-regression/bostonhousing_ord.csv\")"
      ],
      "execution_count": null,
      "outputs": []
    },
    {
      "cell_type": "code",
      "metadata": {
        "colab": {
          "base_uri": "https://localhost:8080/"
        },
        "id": "VJPI6FYx2Rdu",
        "outputId": "d41f5822-ba4e-4983-f86a-692d18308bad"
      },
      "source": [
        "#살펴보기\n",
        "print(abalone)\n",
        "print(boston)"
      ],
      "execution_count": null,
      "outputs": [
        {
          "output_type": "stream",
          "name": "stdout",
          "text": [
            "      response  V1  V2  V3     V4     V5     V6      V7      V8      V9     V10\n",
            "0            1   0   0   1  0.075  0.055  0.010  0.0020  0.0010  0.0005  0.0015\n",
            "1            1   0   0   1  0.130  0.100  0.030  0.0130  0.0045  0.0030  0.0040\n",
            "2            1   0   0   1  0.110  0.090  0.030  0.0080  0.0025  0.0020  0.0030\n",
            "3            1   0   0   1  0.165  0.120  0.030  0.0215  0.0070  0.0050  0.0050\n",
            "4            1   1   0   0  0.210  0.150  0.050  0.0385  0.0155  0.0085  0.0100\n",
            "...        ...  ..  ..  ..    ...    ...    ...     ...     ...     ...     ...\n",
            "4172         9   0   1   0  0.700  0.540  0.215  1.9780  0.6675  0.3125  0.7100\n",
            "4173         9   1   0   0  0.690  0.540  0.185  1.6195  0.5330  0.3530  0.5550\n",
            "4174        10   0   1   0  0.700  0.585  0.185  1.8075  0.7055  0.3215  0.4750\n",
            "4175        10   1   0   0  0.665  0.535  0.225  2.1835  0.7535  0.3910  0.8850\n",
            "4176        10   0   1   0  0.550  0.465  0.180  1.2125  0.3245  0.2050  0.5250\n",
            "\n",
            "[4177 rows x 11 columns]\n",
            "     response       V1   V2     V3  V4  ...  V9  V10   V11     V12    V13\n",
            "0           1  1.25179  0.0   8.14   0  ...   4  307  21.0  376.57  21.02\n",
            "1           1  0.84054  0.0   8.14   0  ...   4  307  21.0  303.42  16.51\n",
            "2           1  1.13081  0.0   8.14   0  ...   4  307  21.0  360.17  22.60\n",
            "3           1  1.38799  0.0   8.14   0  ...   4  307  21.0  232.60  27.71\n",
            "4           1  1.15172  0.0   8.14   0  ...   4  307  21.0  358.77  18.35\n",
            "..        ...      ...  ...    ...  ..  ...  ..  ...   ...     ...    ...\n",
            "501         5  4.89822  0.0  18.10   0  ...  24  666  20.2  375.52   3.26\n",
            "502         5  5.66998  0.0  18.10   1  ...  24  666  20.2  375.33   3.73\n",
            "503         5  6.53876  0.0  18.10   1  ...  24  666  20.2  392.05   2.96\n",
            "504         5  9.23230  0.0  18.10   0  ...  24  666  20.2  366.15   9.53\n",
            "505         5  8.26725  0.0  18.10   1  ...  24  666  20.2  347.88   8.88\n",
            "\n",
            "[506 rows x 14 columns]\n"
          ]
        }
      ]
    },
    {
      "cell_type": "code",
      "metadata": {
        "id": "f6W9_R0y3DQL"
      },
      "source": [
        "#x,y로 데이터 나누어주기\n",
        "x1=abalone.drop('response',axis=1)\n",
        "y1=abalone['response']\n",
        "x2=boston.drop('response',axis=1)\n",
        "y2=boston['response']"
      ],
      "execution_count": null,
      "outputs": []
    },
    {
      "cell_type": "code",
      "metadata": {
        "id": "Ncebv_0D34OK"
      },
      "source": [
        "#비교를 위해 전체 데이터셋을 7:3의 비율로 training dataset와 test dataset으로 나누기.\n",
        "X1_train, X1_test, y1_train, y1_test= train_test_split(x1,y1,test_size=0.3,random_state=903, stratify=y1)\n",
        "X2_train, X2_test, y2_train, y2_test= train_test_split(x2,y2,test_size=0.3,random_state=903, stratify=y2)"
      ],
      "execution_count": null,
      "outputs": []
    },
    {
      "cell_type": "markdown",
      "metadata": {
        "id": "O8vq5mrIhYQK"
      },
      "source": [
        "#abalone"
      ]
    },
    {
      "cell_type": "code",
      "metadata": {
        "colab": {
          "base_uri": "https://localhost:8080/"
        },
        "id": "flnjux6x4NIh",
        "outputId": "c7afbbef-60f4-4b92-ac94-d2007a031b19"
      },
      "source": [
        "#multinominal logistic regression\n",
        "model= LogisticRegression(multi_class='multinomial')\n",
        "model.fit(X1_train,y1_train)\n",
        "y_pred1 = model.predict(X1_test)\n",
        "print('정확도 :', metrics.accuracy_score(y1_test, y_pred1))\n"
      ],
      "execution_count": null,
      "outputs": [
        {
          "output_type": "stream",
          "name": "stdout",
          "text": [
            "정확도 : 0.539872408293461\n"
          ]
        },
        {
          "output_type": "stream",
          "name": "stderr",
          "text": [
            "/usr/local/lib/python3.7/dist-packages/sklearn/linear_model/_logistic.py:940: ConvergenceWarning: lbfgs failed to converge (status=1):\n",
            "STOP: TOTAL NO. of ITERATIONS REACHED LIMIT.\n",
            "\n",
            "Increase the number of iterations (max_iter) or scale the data as shown in:\n",
            "    https://scikit-learn.org/stable/modules/preprocessing.html\n",
            "Please also refer to the documentation for alternative solver options:\n",
            "    https://scikit-learn.org/stable/modules/linear_model.html#logistic-regression\n",
            "  extra_warning_msg=_LOGISTIC_SOLVER_CONVERGENCE_MSG)\n"
          ]
        }
      ]
    },
    {
      "cell_type": "code",
      "metadata": {
        "colab": {
          "base_uri": "https://localhost:8080/"
        },
        "id": "Cl4ffOnQev8a",
        "outputId": "d72ed6da-ae06-432c-a40d-676ac77e7ac6"
      },
      "source": [
        "#ordinal logistic regression\n",
        "regressor = LogisticAT(alpha=1.0, verbose=0)\n",
        "regressor.fit(X1_train,y1_train)\n",
        "ypred=regressor.predict(X1_test)\n",
        "print('정확도 :', metrics.accuracy_score(y1_test, ypred))"
      ],
      "execution_count": null,
      "outputs": [
        {
          "output_type": "stream",
          "name": "stdout",
          "text": [
            "Requirement already satisfied: mord in /usr/local/lib/python3.7/dist-packages (0.6)\n",
            "정확도 : 0.5303030303030303\n"
          ]
        }
      ]
    },
    {
      "cell_type": "markdown",
      "metadata": {
        "id": "FAAFqJvZhoza"
      },
      "source": [
        "#boston"
      ]
    },
    {
      "cell_type": "code",
      "metadata": {
        "colab": {
          "base_uri": "https://localhost:8080/"
        },
        "id": "NPoU9f9HFeZ1",
        "outputId": "8bc55292-3902-4114-8157-b2f6895b63bc"
      },
      "source": [
        "#multinomial logistic regression\n",
        "model2= LogisticRegression(multi_class='multinomial')\n",
        "model.fit(X2_train,y2_train)\n",
        "y_pred2 = model.predict(X2_test)\n",
        "print('정확도 :', metrics.accuracy_score(y2_test, y_pred2))\n"
      ],
      "execution_count": null,
      "outputs": [
        {
          "output_type": "stream",
          "name": "stdout",
          "text": [
            "정확도 : 0.6447368421052632\n"
          ]
        },
        {
          "output_type": "stream",
          "name": "stderr",
          "text": [
            "/usr/local/lib/python3.7/dist-packages/sklearn/linear_model/_logistic.py:940: ConvergenceWarning: lbfgs failed to converge (status=1):\n",
            "STOP: TOTAL NO. of ITERATIONS REACHED LIMIT.\n",
            "\n",
            "Increase the number of iterations (max_iter) or scale the data as shown in:\n",
            "    https://scikit-learn.org/stable/modules/preprocessing.html\n",
            "Please also refer to the documentation for alternative solver options:\n",
            "    https://scikit-learn.org/stable/modules/linear_model.html#logistic-regression\n",
            "  extra_warning_msg=_LOGISTIC_SOLVER_CONVERGENCE_MSG)\n"
          ]
        }
      ]
    },
    {
      "cell_type": "code",
      "metadata": {
        "colab": {
          "base_uri": "https://localhost:8080/"
        },
        "id": "lXJ8x2_-huti",
        "outputId": "cd65a49f-a6b5-4456-8f5a-12795921930f"
      },
      "source": [
        "#ordinal logistic regression\n",
        "regressor2 = LogisticAT(alpha=1.0, verbose=0)\n",
        "regressor2.fit(X2_train,y2_train)\n",
        "ypred2=regressor2.predict(X2_test)\n",
        "print('정확도 :', metrics.accuracy_score(y2_test, ypred2))"
      ],
      "execution_count": null,
      "outputs": [
        {
          "output_type": "stream",
          "name": "stdout",
          "text": [
            "정확도 : 0.7960526315789473\n"
          ]
        }
      ]
    },
    {
      "cell_type": "markdown",
      "metadata": {
        "id": "G0d_cs3jiIRc"
      },
      "source": [
        "abalone 데이터에서는 multinomial logistic regression을 실행했을 때 정확도가 0.539872408293461, ordinal logistic regression을 실행했을 때에는 0.5303030303030303로 multinomial logistic regression이 더 높은 정확도를 가지므로 예측성능이 개선되었습니다.\n",
        "\n",
        "또한 boston 데이터에서는 multinomial logistic regression을 실행했을 때 정확도가 0.6447368421052632, ordinal logistic regression을 실행했을 때에는 0.7960526315789473로 ordinal logistic regression이 더 높은 정확도를 보였습니다. 따라서 ordinal logistic regression이 더 좋은 모델이라고 할 수 있습니다."
      ]
    }
  ]
}